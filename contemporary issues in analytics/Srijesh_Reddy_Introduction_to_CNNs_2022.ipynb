{
 "cells": [
  {
   "cell_type": "markdown",
   "metadata": {},
   "source": [
    "## Srijesh_Reddy AA 5750 Homework Week 7 - HW7 - Jupyter Notebook\n",
    "### **Our goal is to implement THREE LeNet Convolutional Neural Network models and compare their results. Then, report the results in a markdown table within this Jupyter Notebook.**"
   ]
  },
  {
   "cell_type": "markdown",
   "metadata": {},
   "source": [
    "---\n",
    "\n",
    "## Put your *answer table* <em>here</em> filling out these items (it should look somewhat like this):\n",
    "<img src=\"images/table.png\" width=\"650\">"
   ]
  },
  {
   "cell_type": "markdown",
   "metadata": {},
   "source": [
    "### To edit and create your markdown table, double click this markdown cell. Hint - How to do tables in markdown:\n",
    "\n",
    "| Model     |     Run Time     |Training Data Accuracy| Test Data Accuracy |\n",
    "|-----------|------------------|----------------------|--------------------|\n",
    "|not_lenet  |2.1586472829182943|87.00%                |88.39 %             |\n",
    "|-----------|------------------|----------------------|--------------------|\n",
    "|lenet_small|2.2492052515347800|97.00%                |98.22 %             |\n",
    "|-----------|------------------|----------------------|--------------------|\n",
    "|lenet_big  |6.8875518321990965|98.00%                |98.73% |\n",
    "|-----------|------------------|----------------------|--------------------|"
   ]
  },
  {
   "cell_type": "markdown",
   "metadata": {},
   "source": [
    "### <font color='red'> Your solution code will go in cells below.  Execute and read this WHOLE Notebook...."
   ]
  },
  {
   "cell_type": "markdown",
   "metadata": {},
   "source": [
    "---\n",
    "\n",
    "# Setup"
   ]
  },
  {
   "cell_type": "code",
   "execution_count": 1,
   "metadata": {},
   "outputs": [],
   "source": [
    " # Prevent some warning messages from displaying\n",
    "import warnings\n",
    "warnings.filterwarnings(\"ignore\", category=DeprecationWarning) \n",
    "warnings.filterwarnings('ignore', category=FutureWarning)"
   ]
  },
  {
   "cell_type": "code",
   "execution_count": 2,
   "metadata": {},
   "outputs": [],
   "source": [
    "# Load TensorFlow and surpress some non-error messages\n",
    "import tensorflow as tf\n",
    "tf.get_logger().setLevel('ERROR')"
   ]
  },
  {
   "cell_type": "code",
   "execution_count": 3,
   "metadata": {},
   "outputs": [
    {
     "name": "stdout",
     "output_type": "stream",
     "text": [
      "2.9.1\n"
     ]
    }
   ],
   "source": [
    "import numpy as np\n",
    "#import tensorflow as tf\n",
    "#tf.logging.set_verbosity(tf.logging.ERROR) # This hides some warning messages\n",
    "#tf.logging.set_verbosity(tf.logging.INFO)\n",
    "\n",
    "import tensorflow.compat.v1 as tf\n",
    "tf.disable_v2_behavior() \n",
    "tf.get_logger().setLevel('ERROR')\n",
    "\n",
    "import matplotlib.pyplot as plt\n",
    "\n",
    "import helpers_05\n",
    "\n",
    "%matplotlib inline\n",
    "\n",
    "print(tf.__version__)"
   ]
  },
  {
   "cell_type": "markdown",
   "metadata": {},
   "source": [
    "# Convolutions"
   ]
  },
  {
   "cell_type": "markdown",
   "metadata": {},
   "source": [
    "In order to give our model more spatial awareness, provide translation invariance, and reduce the amount of parameters in our network, we need to share weights in such a way that the same pixels located in different parts of a image output identical activation values. The technique we end up using is called a _convolution_.\n",
    "\n",
    "![](images/convolution_animated.gif)\n",
    "\n",
    "The defining feature of a convolution is the _kernel_ (also known as a _filter_), which is a grid-like set of weights which slides over regions of an input image. At each step, the kernel weights are multiplied with the corresponding pixel values underneath. These multiplied values are then summed to get the output value at that point.\n",
    "\n",
    "![](images/convolution_still.png)"
   ]
  },
  {
   "cell_type": "markdown",
   "metadata": {},
   "source": [
    "By performing the operation in this way, we can use local spatial information while also making sure that each part of the image can be examined with the same weights.\n",
    "\n",
    "This is something that is easier to learn visually, so let's take a look at a simple example:\n",
    "\n",
    "![](images/basic_kernel_anim.gif)\n",
    "\n",
    "Here, we have a 5x5 input matrix, and our kernel is 3x3. When the kernel is placed in the top-left portion of the input, we end up with the following total sum:\n",
    "\n",
    "```\n",
    "(1 * -1) + (2 * 1) + (0 * 2) + (1 * 1) + (0 * 1) + (0 * 0) + (2 * -1)+ (2 * 0) = -2\n",
    "```\n",
    "\n",
    "We can see that the value of `-2` is the top-left entry in our output matrix. As we slide the kernel across the image, we get corresponding outputs which follow the kernel spatially. "
   ]
  },
  {
   "cell_type": "markdown",
   "metadata": {},
   "source": [
    "---\n",
    "\n",
    "# LeNet Overview"
   ]
  },
  {
   "cell_type": "markdown",
   "metadata": {
    "collapsed": true
   },
   "source": [
    "**Convolutional Neural Networks** are a special kind of multi-layer neural network. Like almost every other neural network, they are trained to learn an output. Where they differ is in their architecture. **Convolutional Neural Networks** are designed to recognize visual patterns directly from pixel images with minimal preprocessing. They can recognize patterns with extreme variability (such as handwritten characters), and with robustness to distortions and simple geometric transformations.  \n",
    "<br>\n",
    "This Notebook describes in more detail the architecture of **LeNet**, a Convolutional Neural Network architecture used in this Notebook. LeNet comprises **7 layers**, not counting the input, all of which contain trainable parameters (weights). The input is a 32x32 pixel image of handwritten numerals. The output is the numeral.\n",
    "<br>\n",
    "\n",
    "#### **Our goal now is to implement THREE LeNet Convolutional Neural Networks and compare their results.**\n",
    "\n",
    "<br>\n",
    "For more information on LeNet, see: http://yann.lecun.com/exdb/lenet/"
   ]
  },
  {
   "cell_type": "code",
   "execution_count": 4,
   "metadata": {},
   "outputs": [],
   "source": [
    "# We're going to make use a few names that we defined in helper files\n",
    "# they've been gathered in helpers_05.py\n",
    "from helpers_05 import (batches, flatten, fully_connected_layer,\n",
    "                        fully_connected_sigmoid_layer,\n",
    "                        test_and_show_images)"
   ]
  },
  {
   "cell_type": "markdown",
   "metadata": {},
   "source": [
    "## Convolution Layers"
   ]
  },
  {
   "cell_type": "markdown",
   "metadata": {
    "collapsed": true
   },
   "source": [
    "---\n"
   ]
  },
  {
   "cell_type": "code",
   "execution_count": 5,
   "metadata": {},
   "outputs": [],
   "source": [
    "def conv_layer(incoming, num_kernels, kernel_sz, \n",
    "               strides=[1, 1, 1, 1], padding='SAME',\n",
    "               bval=0.01, \n",
    "               activation_fn=tf.nn.relu, \n",
    "               name=None):\n",
    "    prev_outshape = incoming.shape.dims[-1].value\n",
    "    kshape = kernel_sz + [prev_outshape, num_kernels]\n",
    "\n",
    "    fan_in = np.prod(incoming.shape[1:]).value\n",
    "    xavier_stddev = np.sqrt(2.0 / fan_in)\n",
    "    \n",
    "    with tf.variable_scope(name, 'conv_layer'):\n",
    "        w = tf.Variable(tf.truncated_normal(kshape, stddev=xavier_stddev), name='kernel')\n",
    "        b = tf.Variable(tf.constant(bval, shape=[num_kernels]), name='bias')\n",
    "        conv = tf.nn.conv2d(incoming, w, strides, padding, name='conv')\n",
    "        z = tf.nn.bias_add(conv, b)\n",
    "        return z if activation_fn is None else activation_fn(z)"
   ]
  },
  {
   "cell_type": "code",
   "execution_count": 6,
   "metadata": {},
   "outputs": [],
   "source": [
    "def pool_layer(incoming, ksize, strides=None, padding='VALID',\n",
    "               pool_fn=tf.nn.max_pool, name=None):\n",
    "    'create a pooling layer:  we auto-add the leading/trailing 1s'\n",
    "    ksize = [1] + ksize + [1]\n",
    "    # default strides to ksize\n",
    "    strides = strides if strides is not None else ksize\n",
    "    with tf.variable_scope(name, 'pool_layer'):\n",
    "        return pool_fn(incoming, ksize, strides, padding)"
   ]
  },
  {
   "cell_type": "markdown",
   "metadata": {},
   "source": [
    "## LeNet Sub-Networks"
   ]
  },
  {
   "cell_type": "markdown",
   "metadata": {},
   "source": [
    "To get us **warmed up**, here is a simple network that shares some of the architecture of LeNet, but it is smaller and it uses sigmoid activations."
   ]
  },
  {
   "cell_type": "code",
   "execution_count": 7,
   "metadata": {},
   "outputs": [],
   "source": [
    "def not_lenet(images):\n",
    "    with tf.name_scope('not_lenet'):     # small model\n",
    "        conv_1 = conv_layer(images, 6, [5, 5])\n",
    "        pool_1 = pool_layer(conv_1, [2, 2])\n",
    "        conv_2 = conv_layer(pool_1, 16, [5, 5])\n",
    "        pool_2 = pool_layer(conv_2, [2, 2])\n",
    "        \n",
    "        flat = flatten(pool_2)\n",
    "        \n",
    "        fc_layer = fully_connected_sigmoid_layer\n",
    "        fc_1 = fc_layer(flat, 120)\n",
    "        fc_2 = fc_layer(fc_1,  84)\n",
    "        fc_3 = fully_connected_layer(fc_2,  10, w_stddev = 0.5, activation_fn=None)\n",
    "    \n",
    "    return fc_3 "
   ]
  },
  {
   "cell_type": "markdown",
   "metadata": {},
   "source": [
    "**Xavier initialization**  It isn't that hard to implement, either.  Here, we simply add a value to compute `w_stddev` instead of setting it to a fixed constant (see line 8 in the next cell)."
   ]
  },
  {
   "cell_type": "code",
   "execution_count": 8,
   "metadata": {},
   "outputs": [],
   "source": [
    "def fully_connected_xavier_relu_layer(incoming_layer, num_nodes,\n",
    "                                      b_val=0.01,\n",
    "                                      keep_prob=None, name=None):\n",
    "    ' pass through for fully_connected_layer with xavier init '\n",
    "    incoming_layer = tf.convert_to_tensor(incoming_layer)\n",
    "    prev_num_nodes = incoming_layer.shape.dims[-1].value\n",
    "    \n",
    "    w_stddev = np.sqrt(2.0 / prev_num_nodes)\n",
    "\n",
    "    return fully_connected_layer(incoming_layer, num_nodes,\n",
    "                                 w_stddev = w_stddev, b_val=b_val,\n",
    "                                 activation_fn = tf.nn.relu,\n",
    "                                 keep_prob=keep_prob,\n",
    "                                 name=name)\n"
   ]
  },
  {
   "cell_type": "markdown",
   "metadata": {},
   "source": [
    "<br>\n",
    "\n",
    "<br>"
   ]
  },
  {
   "cell_type": "markdown",
   "metadata": {},
   "source": [
    "##### With the above as a starting point, we can now recrete that actual LeNet.  Here's the table from the slides:\n",
    "\n",
    "![](images/lenet-table.png)\n",
    "\n",
    "and the graphic from the paper (http://yann.lecun.com/exdb/publis/psgz/lecun-98.ps.gz):\n",
    "\n",
    "![](images/lenet.png)\n",
    "\n",
    "Unfortunately, you have to combine information from the table and the graphic to get the numbers below.  The depths come from the graphic (they precede the `@` signs on the top of the figure).  The other values come from the table."
   ]
  },
  {
   "cell_type": "markdown",
   "metadata": {},
   "source": [
    "##### What follows are two architectures for LeNet\n",
    "##### A small verion of LeNet:"
   ]
  },
  {
   "cell_type": "code",
   "execution_count": 9,
   "metadata": {},
   "outputs": [],
   "source": [
    "def lenet_small(images):\n",
    "    with tf.name_scope('small_lenet_model'):    \n",
    "        conv_1 = conv_layer(images, 6, [5, 5])\n",
    "        pool_1 = pool_layer(conv_1, [2, 2])\n",
    "        conv_2 = conv_layer(pool_1, 16, [5, 5])\n",
    "        pool_2 = pool_layer(conv_2, [2, 2])\n",
    "\n",
    "        flat = flatten(pool_2)\n",
    "\n",
    "        fc_layer = fully_connected_xavier_relu_layer\n",
    "        fc_1   = fc_layer(flat, 120)\n",
    "        fc_2   = fc_layer(fc_1, 84)\n",
    "        fc_3   = fc_layer(fc_2, 10)\n",
    "        fc_4   = fully_connected_layer(fc_3, 10, activation_fn=None)\n",
    "    \n",
    "    return fc_4"
   ]
  },
  {
   "cell_type": "markdown",
   "metadata": {},
   "source": [
    "##### And here's a scaled up LeNet:"
   ]
  },
  {
   "cell_type": "code",
   "execution_count": 10,
   "metadata": {},
   "outputs": [],
   "source": [
    "def lenet_big(images):\n",
    "    with tf.name_scope('big_lenet_model'):    \n",
    "        conv_1 = conv_layer(images, 32, [5, 5])\n",
    "        pool_1 = pool_layer(conv_1, [2, 2])\n",
    "        conv_2 = conv_layer(pool_1, 64, [5, 5])\n",
    "        pool_2 = pool_layer(conv_2, [2, 2])\n",
    "\n",
    "        flat = flatten(pool_2)\n",
    "\n",
    "        fc_layer = fully_connected_xavier_relu_layer\n",
    "        fc_1   = fc_layer(flat, 400)\n",
    "        fc_2   = fc_layer(fc_1, 200)\n",
    "        fc_3   = fc_layer(fc_2, 200)\n",
    "        fc_4   = fully_connected_layer(fc_3, 10, activation_fn=None)\n",
    "    \n",
    "    return fc_4"
   ]
  },
  {
   "cell_type": "markdown",
   "metadata": {},
   "source": [
    "---\n",
    "# AA 5750 Homework "
   ]
  },
  {
   "cell_type": "markdown",
   "metadata": {},
   "source": [
    "You mission is to take the pieces I've developed and turn them into a working model for **LeNet CNN** on the MNIST dataset.  Here's a process used to get started:\n",
    "\n",
    "  1.  Grab your MNIST model.\n",
    "  2.  Modify it so that your s.out is coming from one of the LeNet versions we defined above.\n",
    "  4.  Read in your training and testing data with `helpers_05.get_mnist_dataset` \n",
    "  5.  Setup a training loop.  Note, use a `learning_rate=0.001` and we don't need a `momentum`.\n",
    "  6.  If things are working right, you shouldn't need 15 epochs of training.  Five or six should do.\n",
    "  7.  Consult the solution below for **not_lenet**, then do the same for the **lenet_small** and **lenet_big**"
   ]
  },
  {
   "cell_type": "markdown",
   "metadata": {},
   "source": [
    "## Solution (common code section)"
   ]
  },
  {
   "cell_type": "code",
   "execution_count": 11,
   "metadata": {},
   "outputs": [],
   "source": [
    "class MNIST_Conv_Model(object):\n",
    "    def __init__(s, lenet_function):  # non-standard, for abbreviation\n",
    "        graph = tf.Graph()\n",
    "        with graph.as_default():\n",
    "            with tf.name_scope('inputs'):\n",
    "                s.images = tf.placeholder(tf.float32, shape=[None, 28, 28, 1], name=\"x\")\n",
    "                s.labels = tf.placeholder(tf.int32, shape=[None])\n",
    "\n",
    "            with tf.name_scope('hyperparams'):\n",
    "                s.learning_rate = tf.placeholder(tf.float32, name='learning_rate')                \n",
    "            \n",
    "            # HUMMMMM:  why floating for one-hot?\n",
    "            s.one_hot_labels = tf.one_hot(s.labels, 10, dtype=tf.float32) \n",
    "            \n",
    "            # main LeNet component\n",
    "            # this is setup so the user passes in one of the lenet functions defined above\n",
    "            # (note, they pass in the function -not- the results of calling that function;\n",
    "            #  we take care of calling it here)\n",
    "            s.logits = lenet_function(s.images)\n",
    "            \n",
    "            with tf.name_scope('loss'):\n",
    "                smce = tf.nn.softmax_cross_entropy_with_logits\n",
    "                s.loss = tf.reduce_mean(smce(logits=s.logits, labels=s.one_hot_labels),\n",
    "                                             name=\"loss\")\n",
    "\n",
    "            with tf.name_scope('global_step'):\n",
    "                global_step = tf.Variable(0, trainable=False, name='global_step')\n",
    "                s.inc_step = tf.assign_add(global_step, 1, name='inc_step')\n",
    "\n",
    "            with tf.name_scope('train'):\n",
    "                decayed_rate = tf.train.exponential_decay(s.learning_rate, global_step,\n",
    "                                                          600, 0.998, True)\n",
    "                momopt = tf.train.MomentumOptimizer\n",
    "                s.train = momopt(decayed_rate, 0.9).minimize(s.loss)\n",
    "            \n",
    "            with tf.name_scope('prediction'):\n",
    "                s.softmax    = tf.nn.softmax(s.logits, name=\"softmax\")\n",
    "                s.prediction = tf.cast(tf.arg_max(s.softmax, 1), tf.int32)\n",
    "                \n",
    "                s.pred_correct  = tf.equal(s.labels, s.prediction)\n",
    "                s.pred_accuracy = tf.reduce_mean(tf.cast(s.pred_correct, tf.float32))    \n",
    "            s.init = tf.global_variables_initializer()\n",
    "            \n",
    "        s.session = tf.Session(graph=graph)\n",
    "        writer = tf.summary.FileWriter('./tensorboard', s.session.graph)   ############################## TB\n",
    "        s.session.run(s.init)\n",
    "    \n",
    "    def fit(s, train_dict):\n",
    "        tr_loss, step, tr_acc, _ = s.session.run([s.loss, s.inc_step, s.pred_accuracy, \n",
    "                                                  s.train], \n",
    "                                              feed_dict=train_dict)\n",
    "        return tr_loss, step, tr_acc\n",
    "    \n",
    "    def predict(s, test_dict):\n",
    "        ct_correct, preds = s.session.run([s.pred_correct, s.prediction], \n",
    "                                          feed_dict=test_dict)\n",
    "        return ct_correct, preds"
   ]
  },
  {
   "cell_type": "code",
   "execution_count": 12,
   "metadata": {},
   "outputs": [],
   "source": [
    "(train_data, train_labels, \n",
    " test_data, test_labels) = helpers_05.get_mnist_dataset()"
   ]
  },
  {
   "cell_type": "code",
   "execution_count": 13,
   "metadata": {},
   "outputs": [
    {
     "data": {
      "text/plain": [
       "(60000, 28, 28, 1)"
      ]
     },
     "execution_count": 13,
     "metadata": {},
     "output_type": "execute_result"
    }
   ],
   "source": [
    "train_data.shape"
   ]
  },
  {
   "cell_type": "markdown",
   "metadata": {},
   "source": [
    "---\n",
    "\n",
    "---\n",
    "\n",
    "---"
   ]
  },
  {
   "cell_type": "markdown",
   "metadata": {},
   "source": [
    "# STEP 1"
   ]
  },
  {
   "cell_type": "markdown",
   "metadata": {},
   "source": [
    "## Run the cell below to get results for the \"not_lenet\" LeNet CNN model\n",
    "## Then, copy cells to run for models of \"lenet_small\" and then for \"lenet_big\"\n",
    "## Enter your results in a TABLE at the top of this Notebook\n",
    "## Return your Notebook with your results for submission on Canvas"
   ]
  },
  {
   "cell_type": "code",
   "execution_count": 14,
   "metadata": {},
   "outputs": [
    {
     "name": "stderr",
     "output_type": "stream",
     "text": [
      "2022-12-10 17:43:22.003948: I tensorflow/core/platform/cpu_feature_guard.cc:193] This TensorFlow binary is optimized with oneAPI Deep Neural Network Library (oneDNN) to use the following CPU instructions in performance-critical operations:  SSE4.1 SSE4.2 AVX AVX2 FMA\n",
      "To enable them in other operations, rebuild TensorFlow with the appropriate compiler flags.\n",
      "2022-12-10 17:43:22.045297: I tensorflow/compiler/mlir/mlir_graph_optimization_pass.cc:354] MLIR V1 optimization pass is not enabled\n"
     ]
    },
    {
     "name": "stdout",
     "output_type": "stream",
     "text": [
      "Epoch:  0 Step:   600 Loss:   0.98 Acc: 80.00%      Epoch Time:    18.40 Seconds\n",
      "Epoch:  1 Step:  1200 Loss:   0.71 Acc: 81.00%      Epoch Time:    18.49 Seconds\n",
      "Epoch:  2 Step:  1800 Loss:   0.47 Acc: 91.00%      Epoch Time:    18.59 Seconds\n",
      "Epoch:  3 Step:  2400 Loss:   0.71 Acc: 81.00%      Epoch Time:    17.96 Seconds\n",
      "Epoch:  4 Step:  3000 Loss:   0.37 Acc: 93.00%      Epoch Time:    18.27 Seconds\n",
      "Epoch:  5 Step:  3600 Loss:   0.34 Acc: 94.00%      Epoch Time:    17.85 Seconds\n",
      "Epoch:  6 Step:  4200 Loss:   0.47 Acc: 87.00%      Epoch Time:    19.59 Seconds\n",
      "Run Time:  2.1586472829182943 minutes\n"
     ]
    }
   ],
   "source": [
    "# Train your model\n",
    "# Run this cell to train \"not_lenet\", then copy it to a new cell (see below) and run on the other LeNet models\n",
    "# Hint: You only need to change ONE line of code to change the model!!!\n",
    "#      \n",
    "import time\n",
    "\n",
    "model_to_use = not_lenet     # or lenet_small or not_lenet or lenet_big\n",
    "epochs = 7\n",
    "\n",
    "start = time.time()\n",
    "mm = MNIST_Conv_Model(model_to_use)\n",
    "starte = time.time()\n",
    "for epoch in range(epochs):\n",
    "    for batch_data, batch_labels in batches(train_data, train_labels, 100):\n",
    "        train_dict = {mm.images : batch_data, \n",
    "                      mm.labels : batch_labels, \n",
    "                      mm.learning_rate : 0.001} # , # 1e-3\n",
    "        tr_loss, step, tr_acc = mm.fit(train_dict)\n",
    "    info_update = \"Epoch: {:2d} Step: {:5d} Loss: {:6.2f} Acc: {:5.2f}%      Epoch Time: {:8.2f} Seconds\"\n",
    "    print(info_update.format(epoch, step, tr_loss, tr_acc*100.0, time.time()-starte))\n",
    "    starte = time.time()\n",
    "\n",
    "end = time.time()\n",
    "print(\"Run Time: \", (end - start)/60.0, \"minutes\")"
   ]
  },
  {
   "cell_type": "code",
   "execution_count": 15,
   "metadata": {},
   "outputs": [
    {
     "name": "stdout",
     "output_type": "stream",
     "text": [
      "Test Data Accuracy:  88.39 %\n"
     ]
    }
   ],
   "source": [
    "# Test Data Accuracy\n",
    "# Run this cell too on each of your models\n",
    "#\n",
    "batch_correct_cts = []\n",
    "for batch_data, batch_labels in batches(test_data, test_labels, 200):\n",
    "    test_dict = {mm.images : batch_data, \n",
    "                 mm.labels : batch_labels}\n",
    "    correctness, curr_preds = mm.predict(test_dict)\n",
    "    batch_correct_cts.append(correctness.sum())\n",
    "\n",
    "print(\"Test Data Accuracy: \",sum(batch_correct_cts) / len(test_data)*100,\"%\")"
   ]
  },
  {
   "cell_type": "code",
   "execution_count": 16,
   "metadata": {},
   "outputs": [
    {
     "data": {
      "image/png": "[encoded data removed]",
      "text/plain": [
       "<Figure size 900x510 with 6 Axes>"
      ]
     },
     "metadata": {},
     "output_type": "display_data"
    }
   ],
   "source": [
    "# Run this once, you don't need to copy and run this cell (unless you want to) on the other models\n",
    "\n",
    "indices = [0, 25, 9999]\n",
    "test_dict = {mm.images : test_data[indices],\n",
    "             mm.labels : test_labels[indices]}\n",
    "test_and_show_images(mm, test_dict, \n",
    "                     test_data[indices], test_labels[indices])"
   ]
  },
  {
   "cell_type": "code",
   "execution_count": 17,
   "metadata": {},
   "outputs": [],
   "source": [
    "# Run this once, you don't need to copy and run this cell (unless you want to) on the other models\n",
    "\n",
    "correctness = []\n",
    "for batch_data, batch_labels in batches(test_data, test_labels, 200):\n",
    "    test_dict = {mm.images : batch_data,\n",
    "                 mm.labels : batch_labels}\n",
    "    curr_correctness, curr_preds = mm.predict(test_dict)\n",
    "    correctness.extend(curr_correctness)\n",
    "incorrect = np.where(np.logical_not(np.array(correctness, dtype=np.bool)))[0]"
   ]
  },
  {
   "cell_type": "code",
   "execution_count": 18,
   "metadata": {
    "scrolled": false
   },
   "outputs": [
    {
     "data": {
      "image/png": "[encoded data removed]",
      "text/plain": [
       "<Figure size 900x2040 with 15 Axes>"
      ]
     },
     "metadata": {},
     "output_type": "display_data"
    }
   ],
   "source": [
    "# Run this once, you don't need to copy and run this cell (unless you want to) on the other models\n",
    "\n",
    "indices = incorrect[:12]\n",
    "test_dict = {mm.images : test_data[indices],\n",
    "             mm.labels : test_labels[indices]}\n",
    "test_and_show_images(mm, test_dict,\n",
    "                     test_data[indices], test_labels[indices])"
   ]
  },
  {
   "cell_type": "markdown",
   "metadata": {},
   "source": [
    "---\n",
    "\n",
    "# STEP 2"
   ]
  },
  {
   "cell_type": "markdown",
   "metadata": {},
   "source": [
    "##### Now copy appropriate code cells from above, and change to <ins>lenet_small</ins>, run to train it, and get timing, training and test accuracies"
   ]
  },
  {
   "cell_type": "code",
   "execution_count": 19,
   "metadata": {},
   "outputs": [
    {
     "name": "stdout",
     "output_type": "stream",
     "text": [
      "Epoch:  0 Step:   600 Loss:   0.18 Acc: 97.00%      Epoch Time:    17.73 Seconds\n",
      "Epoch:  1 Step:  1200 Loss:   0.15 Acc: 95.00%      Epoch Time:    19.92 Seconds\n",
      "Epoch:  2 Step:  1800 Loss:   0.04 Acc: 99.00%      Epoch Time:    19.65 Seconds\n",
      "Epoch:  3 Step:  2400 Loss:   0.09 Acc: 97.00%      Epoch Time:    19.19 Seconds\n",
      "Epoch:  4 Step:  3000 Loss:   0.12 Acc: 95.00%      Epoch Time:    19.41 Seconds\n",
      "Epoch:  5 Step:  3600 Loss:   0.08 Acc: 97.00%      Epoch Time:    20.71 Seconds\n",
      "Epoch:  6 Step:  4200 Loss:   0.10 Acc: 97.00%      Epoch Time:    18.07 Seconds\n",
      "Run Time:  2.24920525153478 minutes\n"
     ]
    }
   ],
   "source": [
    "import time\n",
    "\n",
    "model_to_use = lenet_small     # or lenet_small or not_lenet or lenet_big\n",
    "epochs = 7\n",
    "\n",
    "start = time.time()\n",
    "mm = MNIST_Conv_Model(model_to_use)\n",
    "starte = time.time()\n",
    "for epoch in range(epochs):\n",
    "    for batch_data, batch_labels in batches(train_data, train_labels, 100):\n",
    "        train_dict = {mm.images : batch_data, \n",
    "                      mm.labels : batch_labels, \n",
    "                      mm.learning_rate : 0.001} # , # 1e-3\n",
    "        tr_loss, step, tr_acc = mm.fit(train_dict)\n",
    "    info_update = \"Epoch: {:2d} Step: {:5d} Loss: {:6.2f} Acc: {:5.2f}%      Epoch Time: {:8.2f} Seconds\"\n",
    "    print(info_update.format(epoch, step, tr_loss, tr_acc*100.0, time.time()-starte))\n",
    "    starte = time.time()\n",
    "\n",
    "end = time.time()\n",
    "print(\"Run Time: \", (end - start)/60.0, \"minutes\")"
   ]
  },
  {
   "cell_type": "code",
   "execution_count": 20,
   "metadata": {},
   "outputs": [
    {
     "name": "stdout",
     "output_type": "stream",
     "text": [
      "Test Data Accuracy:  98.22 %\n"
     ]
    }
   ],
   "source": [
    "batch_correct_cts = []\n",
    "for batch_data, batch_labels in batches(test_data, test_labels, 200):\n",
    "    test_dict = {mm.images : batch_data, \n",
    "                 mm.labels : batch_labels}\n",
    "    correctness, curr_preds = mm.predict(test_dict)\n",
    "    batch_correct_cts.append(correctness.sum())\n",
    "\n",
    "print(\"Test Data Accuracy: \",sum(batch_correct_cts) / len(test_data)*100,\"%\")"
   ]
  },
  {
   "cell_type": "code",
   "execution_count": null,
   "metadata": {},
   "outputs": [],
   "source": []
  },
  {
   "cell_type": "code",
   "execution_count": null,
   "metadata": {},
   "outputs": [],
   "source": []
  },
  {
   "cell_type": "markdown",
   "metadata": {},
   "source": [
    "---\n",
    "\n",
    "# STEP 3"
   ]
  },
  {
   "cell_type": "markdown",
   "metadata": {},
   "source": [
    "##### Now copy appropriate code cells from above, and change to <ins>lenet_big</ins>, run to train it, and get timing, training and test accuracies"
   ]
  },
  {
   "cell_type": "code",
   "execution_count": 21,
   "metadata": {},
   "outputs": [
    {
     "name": "stdout",
     "output_type": "stream",
     "text": [
      "Epoch:  0 Step:   600 Loss:   0.10 Acc: 97.00%      Epoch Time:    59.98 Seconds\n",
      "Epoch:  1 Step:  1200 Loss:   0.17 Acc: 92.00%      Epoch Time:    58.81 Seconds\n",
      "Epoch:  2 Step:  1800 Loss:   0.07 Acc: 99.00%      Epoch Time:    57.09 Seconds\n",
      "Epoch:  3 Step:  2400 Loss:   0.01 Acc: 100.00%      Epoch Time:    63.68 Seconds\n",
      "Epoch:  4 Step:  3000 Loss:   0.00 Acc: 100.00%      Epoch Time:    58.42 Seconds\n",
      "Epoch:  5 Step:  3600 Loss:   0.00 Acc: 100.00%      Epoch Time:    57.78 Seconds\n",
      "Epoch:  6 Step:  4200 Loss:   0.04 Acc: 98.00%      Epoch Time:    57.17 Seconds\n",
      "Run Time:  6.8875518321990965 minutes\n"
     ]
    }
   ],
   "source": [
    "import time\n",
    "\n",
    "model_to_use = lenet_big     # or lenet_small or not_lenet or lenet_big\n",
    "epochs = 7\n",
    "\n",
    "start = time.time()\n",
    "mm = MNIST_Conv_Model(model_to_use)\n",
    "starte = time.time()\n",
    "for epoch in range(epochs):\n",
    "    for batch_data, batch_labels in batches(train_data, train_labels, 100):\n",
    "        train_dict = {mm.images : batch_data, \n",
    "                      mm.labels : batch_labels, \n",
    "                      mm.learning_rate : 0.001} # , # 1e-3\n",
    "        tr_loss, step, tr_acc = mm.fit(train_dict)\n",
    "    info_update = \"Epoch: {:2d} Step: {:5d} Loss: {:6.2f} Acc: {:5.2f}%      Epoch Time: {:8.2f} Seconds\"\n",
    "    print(info_update.format(epoch, step, tr_loss, tr_acc*100.0, time.time()-starte))\n",
    "    starte = time.time()\n",
    "\n",
    "end = time.time()\n",
    "print(\"Run Time: \", (end - start)/60.0, \"minutes\")"
   ]
  },
  {
   "cell_type": "code",
   "execution_count": 22,
   "metadata": {},
   "outputs": [
    {
     "name": "stdout",
     "output_type": "stream",
     "text": [
      "Test Data Accuracy:  98.72999999999999 %\n"
     ]
    }
   ],
   "source": [
    "batch_correct_cts = []\n",
    "for batch_data, batch_labels in batches(test_data, test_labels, 200):\n",
    "    test_dict = {mm.images : batch_data, \n",
    "                 mm.labels : batch_labels}\n",
    "    correctness, curr_preds = mm.predict(test_dict)\n",
    "    batch_correct_cts.append(correctness.sum())\n",
    "\n",
    "print(\"Test Data Accuracy: \",sum(batch_correct_cts) / len(test_data)*100,\"%\")"
   ]
  },
  {
   "cell_type": "code",
   "execution_count": null,
   "metadata": {},
   "outputs": [],
   "source": []
  },
  {
   "cell_type": "code",
   "execution_count": null,
   "metadata": {},
   "outputs": [],
   "source": []
  }
 ],
 "metadata": {
  "anaconda-cloud": {},
  "kernelspec": {
   "display_name": "Python 3 (ipykernel)",
   "language": "python",
   "name": "python3"
  },
  "language_info": {
   "codemirror_mode": {
    "name": "ipython",
    "version": 3
   },
   "file_extension": ".py",
   "mimetype": "text/x-python",
   "name": "python",
   "nbconvert_exporter": "python",
   "pygments_lexer": "ipython3",
   "version": "3.9.13"
  }
 },
 "nbformat": 4,
 "nbformat_minor": 2
}
